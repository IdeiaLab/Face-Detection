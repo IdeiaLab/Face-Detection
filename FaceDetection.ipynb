{
 "cells": [
  {
   "cell_type": "code",
   "execution_count": 1,
   "id": "83f2d3fc",
   "metadata": {},
   "outputs": [],
   "source": [
    "import cv2\n",
    "import mediapipe as mp\n",
    "import urllib.request\n",
    "import numpy as np\n",
    "import os\n",
    "import PIL "
   ]
  },
  {
   "cell_type": "code",
   "execution_count": 2,
   "id": "fbf9afa6",
   "metadata": {},
   "outputs": [],
   "source": [
    "#iniciar o opencv e mediapipe\n",
    "#url='http://192.168.0.158/capture'\n",
    "webcam = cv2.VideoCapture(0)\n",
    "solu_rosto = mp.solutions.face_detection\n",
    "reconhecer_rosto = solu_rosto.FaceDetection()\n",
    "desenho = mp.solutions.drawing_utils"
   ]
  },
  {
   "cell_type": "code",
   "execution_count": 3,
   "id": "d1e36ec2",
   "metadata": {},
   "outputs": [],
   "source": [
    "while True:\n",
    "    #img_resp=urllib.request.urlopen(url)\n",
    "    #imgnp=np.array(bytearray(img_resp.read()),dtype=np.uint8)\n",
    "    #frame=cv2.imdecode(imgnp,-1)\n",
    "    ver, frame = webcam.read()\n",
    "    if not ver:\n",
    "        break\n",
    "    lista_rostos = reconhecer_rosto.process(frame)\n",
    "    if lista_rostos.detections:\n",
    "        for rosto in lista_rostos.detections:\n",
    "            desenho.draw_detection(frame, rosto)\n",
    "    cv2.imshow(\"Rostos\", frame)\n",
    "    if cv2.waitKey(5) == 27:\n",
    "        break\n",
    "\n",
    "webcam.release()\n",
    "cv2.destroyAllWindows()"
   ]
  },
  {
   "cell_type": "code",
   "execution_count": null,
   "id": "43282d47",
   "metadata": {},
   "outputs": [],
   "source": []
  }
 ],
 "metadata": {
  "kernelspec": {
   "display_name": "Python 3 (ipykernel)",
   "language": "python",
   "name": "python3"
  },
  "language_info": {
   "codemirror_mode": {
    "name": "ipython",
    "version": 3
   },
   "file_extension": ".py",
   "mimetype": "text/x-python",
   "name": "python",
   "nbconvert_exporter": "python",
   "pygments_lexer": "ipython3",
   "version": "3.10.9"
  }
 },
 "nbformat": 4,
 "nbformat_minor": 5
}
